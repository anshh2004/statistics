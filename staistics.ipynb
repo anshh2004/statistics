{
 "cells": [
  {
   "cell_type": "code",
   "execution_count": 1,
   "metadata": {},
   "outputs": [
    {
     "name": "stdout",
     "output_type": "stream",
     "text": [
      "The mean or average of all these numbers ( [10, 7, 9, 11, 15, 12, 13, 11, 9, 10] ) is 10.7\n"
     ]
    }
   ],
   "source": [
    "numb = [10,7,9,11,15,12,13,11,9,10]\n",
    "no = len(numb)\n",
    "summ = sum(numb)\n",
    "mean = summ / no\n",
    "print(\"The mean or average of all these numbers (\", numb, \") is\", str(mean))"
   ]
  },
  {
   "cell_type": "code",
   "execution_count": 1,
   "metadata": {},
   "outputs": [
    {
     "name": "stdout",
     "output_type": "stream",
     "text": [
      "variance is:\n",
      "4.49\n"
     ]
    }
   ],
   "source": [
    "\n",
    "#VARIANCE\n",
    "def variance(val):\n",
    "    numb = len(val)\n",
    "    # m will have the mean value\n",
    "    m = sum(val) / numb\n",
    "    # Square deviations\n",
    "    devi = [(x - m) ** 2 for x in val]\n",
    "    # Variance\n",
    "    variance = sum(devi) / numb\n",
    "    return variance\n",
    "print(\"variance is:\")\n",
    "print(variance([6, 6, 3, 9, 4, 3, 6, 9, 7, 8]))"
   ]
  }
 ],
 "metadata": {
  "kernelspec": {
   "display_name": "base",
   "language": "python",
   "name": "python3"
  },
  "language_info": {
   "codemirror_mode": {
    "name": "ipython",
    "version": 3
   },
   "file_extension": ".py",
   "mimetype": "text/x-python",
   "name": "python",
   "nbconvert_exporter": "python",
   "pygments_lexer": "ipython3",
   "version": "3.9.13"
  },
  "orig_nbformat": 4,
  "vscode": {
   "interpreter": {
    "hash": "44ff311382a3aee304c1833dc8be3a2bfc03b84c879b385221c3cb3720a01da4"
   }
  }
 },
 "nbformat": 4,
 "nbformat_minor": 2
}
